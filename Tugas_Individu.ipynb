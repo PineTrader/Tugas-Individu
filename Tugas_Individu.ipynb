{
  "nbformat": 4,
  "nbformat_minor": 0,
  "metadata": {
    "colab": {
      "provenance": [],
      "collapsed_sections": [
        "JD_f2QnIjB-K",
        "rYQU2pxTkheh",
        "6nW7NLfzY8_2",
        "PU0FRS9QuBVv",
        "A0cbHZ-vKpYb",
        "qX3epxcwRUfq"
      ]
    },
    "kernelspec": {
      "name": "python3",
      "display_name": "Python 3"
    },
    "language_info": {
      "name": "python"
    }
  },
  "cells": [
    {
      "cell_type": "markdown",
      "source": [
        "<a id=\"A\"></a>\n",
        "# <b><span style='color:#E1B12D'>TUGAS INDIVIDU</span></b>\n",
        "\n",
        "DS70211 - Fiari Rahman\n",
        "\n",
        "[Link Github Tugas Individu](https://github.com/PineTrader/Tugas-Individu/blob/main/Jenis%20dan%20Rata-rata%20Polutan%20di%20Beberapa%20Negara%20Bagian.pdf)"
      ],
      "metadata": {
        "id": "xs-aZG6xh8bb"
      }
    },
    {
      "cell_type": "markdown",
      "source": [
        "<a id=\"A.\"></a>\n",
        "## <b>1. <span style='color:#0B2F9F'>Simple Query</span></b>"
      ],
      "metadata": {
        "id": "JD_f2QnIjB-K"
      }
    },
    {
      "cell_type": "code",
      "execution_count": null,
      "metadata": {
        "id": "frlIijM6h7qd"
      },
      "outputs": [],
      "source": [
        "SELECT DISTINCT state_name AS Negara_Bagian,county_name AS Wilayah,parameter_name AS Jenis_Polutan, arithmetic_mean AS Rata_rata_Polutan\n",
        "FROM `bigquery-public-data.epa_historical_air_quality.air_quality_annual_summary`\n",
        "LIMIT 50;"
      ]
    },
    {
      "cell_type": "markdown",
      "source": [
        "PENJELASAN CODE\n",
        "1. SELECT: Memilih kolom-kolom yang akan ditampilkan, yaitu state_name, county_name, parameter_name, dan arithmetic_mean, dengan alias untuk membuatnya lebih mudah dipahami oleh orang awam.\n",
        "- state_name → Negara Bagian.\n",
        "- county_name → Wilayah.\n",
        "- parameter_name → Jenis Polutan.\n",
        "- arithmetic_mean → Rata-rata Polutan.\n",
        "2. DISTINCT: Menghilangkan duplikasi sehingga hanya kombinasi unik dari negara bagian, wilayah, jenis polutan, dan nilai rata-rata polutan yang ditampilkan.\n",
        "\n",
        "3. FROM: Mengambil data dari dataset bigquery-public-data.epa_historical_air_quality.air_quality_annual_summary.\n",
        "\n",
        "4. LIMIT 50: Membatasi hasil hanya hingga 50 baris data yang unik, untuk membatasi jumlah data yang ditampilkan dan meringkas hasil.\n",
        "\n",
        "Kesimpulan: Kode ini digunakan untuk menampilkan kombinasi unik dari negara bagian, wilayah, jenis polutan, dan rata-rata konsentrasi polutan hingga 50 baris dari dataset kualitas udara EPA."
      ],
      "metadata": {
        "id": "YFWYVX5sjeEJ"
      }
    },
    {
      "cell_type": "markdown",
      "source": [
        "Insight: Jenis dan Rata-rata Polutan di Beberapa Negara Bagian\n",
        "\n",
        "Data ini berisi informasi tentang rata-rata kadar polutan di beberapa negara bagian dan wilayahnya di Amerika Serikat. Setiap baris data menunjukkan polutan yang diukur di suatu wilayah (kabupaten) dan nilai rata-ratanya. Beberapa polutan umum yang ditemukan dalam data ini mencakup unsur logam seperti arsenik (TSP), berilium (TSP), kadmium (TSP), kromium (TSP), timbal (TSP), mangan (TSP), nikel (TSP), dan seng (TSP). Semua polutan ini dapat mempengaruhi kualitas udara dan kesehatan masyarakat, terutama jika terpapar dalam jumlah yang tinggi.\n",
        "\n",
        "Informasi ini membantu kita memahami jenis polutan yang dominan di suatu wilayah serta seberapa besar rata-rata polusi tersebut. Misalnya, wilayah tertentu mungkin memiliki konsentrasi logam berat yang lebih tinggi dibandingkan wilayah lainnya.\n",
        "\n",
        "Namun, penting untuk dicatat bahwa data ini hanya mencakup 50 catatan pertama dari dataset yang lebih besar. Artinya, ini hanyalah contoh kecil dari data yang tersedia dan mungkin belum mencakup keseluruhan gambaran kualitas udara di semua negara bagian.\n",
        "\n",
        "Secara umum, dengan memahami jenis polutan dan rata-rata polutan di beberapa wilayah, kita dapat mengidentifikasi area yang mungkin perlu perhatian lebih dalam pengelolaan kualitas udara. Data ini bisa menjadi langkah awal dalam merencanakan tindakan untuk mengurangi polusi di wilayah tertentu dan melindungi kesehatan masyarakat."
      ],
      "metadata": {
        "id": "BG9adZnrkUZs"
      }
    },
    {
      "cell_type": "markdown",
      "source": [
        "<a id=\"A.\"></a>\n",
        "## <b>2. <span style='color:#0B2F9F'>Where Clause</span></b>"
      ],
      "metadata": {
        "id": "rYQU2pxTkheh"
      }
    },
    {
      "cell_type": "code",
      "source": [
        "SELECT DISTINCT state_name AS Negara_Bagian,county_name AS Wilayah,parameter_name AS Jenis_Polutan, arithmetic_mean AS Rata_rata_Polutan, year AS Tahun\n",
        "FROM `bigquery-public-data.epa_historical_air_quality.air_quality_annual_summary`\n",
        "WHERE state_name = 'California'\n",
        "      AND year = 2020\n",
        "LIMIT 100"
      ],
      "metadata": {
        "id": "MEz8Q78dkqaB"
      },
      "execution_count": null,
      "outputs": []
    },
    {
      "cell_type": "markdown",
      "source": [
        "- SELECT DISTINCT: Mengambil data unik dari kolom yang ditentukan.\n",
        "- state_name AS Negara_Bagian: Mengambil nama negara bagian dan menamakannya sebagai \"Negara_Bagian\".\n",
        "- county_name AS Wilayah: Mengambil nama wilayah (county) dan menamakannya sebagai \"Wilayah\".\n",
        "- parameter_name AS Jenis_Polutan: Mengambil nama parameter polutan dan menamakannya sebagai \"Jenis_Polutan\".\n",
        "- arithmetic_mean AS Rata_rata_Polutan: Mengambil nilai rata-rata polutan dan menamakannya sebagai \"Rata_rata_Polutan\".\n",
        "- year AS Tahun: Mengambil tahun data dan menamakannya sebagai \"Tahun\".\n",
        "- FROM: Menentukan tabel yang digunakan, yaitu air_quality_annual_summary.\n",
        "- WHERE: Menyaring hasil untuk hanya mencakup data dari negara bagian California pada tahun 2020.\n",
        "- LIMIT 100: Mengatur batasan jumlah baris yang diambil, dalam hal ini maksimum 100 baris."
      ],
      "metadata": {
        "id": "yH3Meflbs_WD"
      }
    },
    {
      "cell_type": "markdown",
      "source": [
        "Insight: Kualitas Udara di California Tahun 2020\n",
        "\n",
        "Data ini memberikan informasi tentang jenis dan rata-rata kadar polutan di berbagai wilayah (county) di California pada tahun 2020. Setiap baris mencakup nama negara bagian, wilayah, jenis polutan, nilai rata-rata polutan, dan tahun pengukuran. Polutan yang terdeteksi dalam data ini mencakup partikel halus (PM2.5 dan PM10), nitrogen dioksida, sulfur dioksida, ozon, dan karbon monoksida, yang semuanya memiliki dampak signifikan terhadap kualitas udara dan kesehatan masyarakat.  \n",
        "\n",
        "Data ini memungkinkan kita untuk memahami polutan mana yang paling mendominasi di setiap wilayah. Misalnya, di Mono dan Trinity, kadar Organic Carbon Mass dan PM10 menunjukkan potensi masalah pencemaran udara yang perlu ditangani. Dengan mengidentifikasi wilayah berisiko tinggi terkait kualitas udara dan kesehatan penduduk, tindakan yang lebih tepat dan efektif dapat diambil.\n",
        "\n",
        "Namun, perlu dicatat bahwa data yang diambil hanya mencakup catatan dari tahun 2020 dan mungkin tidak mencakup seluruh spektrum polutan yang ada di California. Ini berarti hasil ini hanyalah snapshot dari kondisi yang lebih luas dan tidak mencerminkan tren jangka panjang.\n",
        "\n",
        "Secara keseluruhan, pemahaman tentang jenis polutan dan rata-rata kadar polutan di wilayah-wilayah di California dapat membantu dalam merumuskan strategi pengelolaan kualitas udara yang lebih efektif. Data ini dapat menjadi dasar untuk tindakan yang diperlukan guna mengurangi polusi dan meningkatkan kesehatan masyarakat di area yang teridentifikasi berisiko tinggi."
      ],
      "metadata": {
        "id": "jIWEI-8eYqml"
      }
    },
    {
      "cell_type": "markdown",
      "source": [
        "<a id=\"A.\"></a>\n",
        "## <b>3. <span style='color:#0B2F9F'>Case When</span></b>"
      ],
      "metadata": {
        "id": "6nW7NLfzY8_2"
      }
    },
    {
      "cell_type": "code",
      "source": [
        "SELECT DISTINCT\n",
        "    state_name AS Negara_Bagian,\n",
        "    county_name AS Wilayah,\n",
        "    parameter_name AS Jenis_Polutan,\n",
        "    arithmetic_mean AS Rata_rata_Polutan,\n",
        "    CASE\n",
        "        WHEN arithmetic_mean <= 35 THEN 'Baik'\n",
        "        WHEN arithmetic_mean > 35 AND arithmetic_mean <= 75 THEN 'Sedang'\n",
        "        ELSE 'Buruk'\n",
        "    END AS Kualitas_Udara\n",
        "FROM\n",
        "    `bigquery-public-data.epa_historical_air_quality.air_quality_annual_summary`\n",
        "LIMIT 200;"
      ],
      "metadata": {
        "id": "nyJYYUs7ZDCg"
      },
      "execution_count": null,
      "outputs": []
    },
    {
      "cell_type": "markdown",
      "source": [
        "- SELECT DISTINCT: Digunakan untuk memilih kombinasi unik dari kolom yang ditentukan, sehingga tidak ada duplikasi data dalam hasil.\n",
        "- state_name AS Negara_Bagian: Mengambil nama negara bagian dan memberi alias \"Negara_Bagian\".\n",
        "- county_name AS Wilayah: Mengambil nama kabupaten dan memberi alias \"Wilayah\".\n",
        "- parameter_name AS Jenis_Polutan: Mengambil nama parameter polutan dan memberi alias \"Jenis_Polutan\".\n",
        "- arithmetic_mean AS Rata_rata_Polutan: Mengambil nilai rata-rata dari polutan yang terukur dan memberi alias \"Rata_rata_Polutan\".\n",
        "- CASE WHEN: Menggunakan pernyataan kondisi untuk menentukan kualitas udara berdasarkan nilai rata-rata polutan:\n",
        "   - 'Baik' jika nilai rata-rata ≤ 35\n",
        "   - 'Sedang' jika nilai rata-rata antara 35 dan 75\n",
        "   - 'Buruk' jika nilai rata-rata > 75\n",
        "- FROM: Menentukan tabel sumber data yang digunakan, yaitu bigquery-public-data.epa_historical_air_quality.air_quality_annual_summary.\n",
        "- LIMIT 200: Mengatur batas hasil yang ditampilkan, yaitu 200 catatan pertama."
      ],
      "metadata": {
        "id": "1dZHNIeeZFlC"
      }
    },
    {
      "cell_type": "markdown",
      "source": [
        "Insight: Jenis dan Kualitas Udara di Beberapa Negara Bagian\n",
        "\n",
        "Data ini berisi informasi tentang rata-rata kadar polutan di beberapa negara bagian dan kabupaten di Amerika Serikat. Setiap baris data menunjukkan polutan yang diukur di suatu wilayah dan nilai rata-ratanya. Beberapa polutan umum yang ditemukan dalam data ini termasuk unsur logam seperti arsenik, beryllium, kadmium, kromium, timbal, mangan, nikel, dan seng.\n",
        "\n",
        "Contoh hasil menunjukkan bahwa di Charleston, South Carolina, beberapa polutan seperti Sample Volume dan Ambient Max Temperature memiliki rata-rata yang baik, sedangkan Sample Min Baro Pressure menunjukkan kualitas udara buruk. Hal ini mengindikasikan bahwa meskipun ada polutan yang terukur dalam batas aman, masih ada komponen lain yang perlu mendapat perhatian lebih.\n",
        "\n",
        "Penting untuk dicatat bahwa data ini hanya mencakup 200 catatan pertama dari dataset yang lebih besar. Artinya, ini hanyalah contoh kecil dari data yang tersedia dan mungkin belum mencakup keseluruhan gambaran kualitas udara di semua negara bagian.\n",
        "\n",
        "Secara umum, dengan memahami jenis polutan dan rata-rata polutan di beberapa wilayah, kita dapat mengidentifikasi area yang mungkin perlu perhatian lebih dalam pengelolaan kualitas udara. Data ini bisa menjadi langkah awal dalam merencanakan tindakan untuk mengurangi polusi di wilayah tertentu dan melindungi kesehatan masyarakat."
      ],
      "metadata": {
        "id": "2QWDAphtZFap"
      }
    },
    {
      "cell_type": "markdown",
      "source": [
        "<a id=\"A.\"></a>\n",
        "## <b>4. <span style='color:#0B2F9F'>Subquery/CTE</span></b>"
      ],
      "metadata": {
        "id": "PU0FRS9QuBVv"
      }
    },
    {
      "cell_type": "code",
      "source": [
        "WITH state_avg AS (\n",
        "   SELECT state_name AS Negara_Bagian,\n",
        "          AVG(arithmetic_mean) AS Rata_rata_Polutan,\n",
        "          CASE\n",
        "              WHEN AVG(arithmetic_mean) <= 35 THEN 'Baik'\n",
        "              WHEN AVG(arithmetic_mean) > 35 AND AVG(arithmetic_mean) <= 75 THEN 'Sedang'\n",
        "              ELSE 'Buruk'\n",
        "          END AS Kualitas_Udara\n",
        "   FROM `bigquery-public-data.epa_historical_air_quality.air_quality_annual_summary`\n",
        "   GROUP BY state_name\n",
        ")\n",
        "SELECT Negara_Bagian, Rata_rata_Polutan, Kualitas_Udara\n",
        "FROM state_avg\n",
        "WHERE Rata_rata_Polutan > 40;\n"
      ],
      "metadata": {
        "id": "oujWPzoauHAt"
      },
      "execution_count": null,
      "outputs": []
    },
    {
      "cell_type": "markdown",
      "source": [
        "Kode SQL ini digunakan untuk menghitung rata-rata kadar polutan per negara bagian (state) dan mengkategorikan kualitas udaranya berdasarkan nilai rata-rata tersebut.\n",
        "\n",
        "- WITH Clause:\n",
        "\n",
        "    - Menggunakan subquery yang diberi nama state_avg untuk menghitung rata-rata kadar polutan (AVG(arithmetic_mean)) di setiap negara bagian (state_name).\n",
        "    - Kolom hasilnya dinamai ulang menjadi lebih mudah dimengerti: Negara_Bagian untuk state_name dan Rata_rata_Polutan untuk hasil AVG(arithmetic_mean).\n",
        "    - Ditambahkan juga kolom tambahan bernama Kualitas_Udara yang dihitung berdasarkan nilai Rata_rata_Polutan dengan kriteria berikut:\n",
        "      - Jika rata-rata ≤ 35, dikategorikan sebagai \"Baik\".\n",
        "      - Jika rata-rata > 35 dan ≤ 75, dikategorikan sebagai \"Sedang\".\n",
        "      - Jika rata-rata > 75, dikategorikan sebagai \"Buruk\".\n",
        "- SELECT Clause:\n",
        "\n",
        "Memilih kolom Negara_Bagian, Rata_rata_Polutan, dan Kualitas_Udara dari subquery state_avg.\n",
        "- WHERE Clause:\n",
        "\n",
        "Memfilter hasil hanya untuk negara bagian yang memiliki Rata_rata_Polutan lebih besar dari 40."
      ],
      "metadata": {
        "id": "Mkd71mcmxI2Z"
      }
    },
    {
      "cell_type": "markdown",
      "source": [
        "Insight: Kualitas Udara di Berbagai Negara Bagian Berdasarkan Rata-rata Polutan\n",
        "\n",
        "Data ini menyajikan informasi mengenai rata-rata kadar polutan di berbagai negara bagian dan wilayah di Amerika Serikat. Berdasarkan hasil pengelompokan data, kualitas udara dapat dikategorikan menjadi tiga: Baik, Sedang, dan Buruk. Dalam dataset ini, kategori \"Sedang\" mendominasi, sementara beberapa negara bagian menunjukkan kualitas udara yang Buruk, terutama wilayah dengan konsentrasi polusi yang lebih tinggi.\n",
        "\n",
        "- Hasil dari Data:\n",
        "\n",
        "   - Negara-negara bagian seperti Puerto Rico, Illinois, Utah, California, dan Nevada menunjukkan rata-rata polutan dalam kategori Sedang, dengan nilai berkisar antara 40 hingga 70.\n",
        "   - Beberapa negara bagian seperti Nebraska, West Virginia, Iowa, dan New York masuk dalam kategori Buruk, menunjukkan tingkat polutan yang lebih tinggi dari 75, dengan Arkansas dan Canada memiliki nilai yang paling signifikan, yaitu di atas 100, menandakan kualitas udara yang sangat buruk.\n",
        "   - Mississippi dan Idaho juga menunjukkan kualitas udara yang buruk, yang berarti wilayah-wilayah ini memerlukan perhatian lebih dalam hal pengelolaan polusi udara.\n",
        "- Data Detail:\n",
        "\n",
        "   - Puerto Rico memiliki rata-rata polutan 61.05, yang termasuk dalam kategori Sedang.\n",
        "   - Illinois berada di angka 49.87, juga dalam kategori Sedang.\n",
        "   - Negara bagian seperti Nebraska dan Iowa menunjukkan angka yang lebih tinggi dengan nilai 93.37 dan 81.40, yang dikategorikan sebagai Buruk.\n",
        "   - Arkansas bahkan mencapai nilai 110.69, yang memperlihatkan tingkat polusi yang sangat mengkhawatirkan.\n",
        "- Kesimpulan:\n",
        "\n",
        "Data ini menggambarkan variasi kualitas udara di berbagai negara bagian. Kategori Sedang mendominasi, namun beberapa wilayah seperti Arkansas dan Canada menghadapi masalah polusi yang lebih serius dengan kualitas udara yang tergolong Buruk. Informasi ini sangat penting dalam perencanaan kebijakan untuk pengendalian polusi udara dan peningkatan kualitas udara di daerah-daerah yang terkena dampak lebih parah."
      ],
      "metadata": {
        "id": "oN9U6fVyxsL3"
      }
    },
    {
      "cell_type": "markdown",
      "source": [
        "<a id=\"A.\"></a>\n",
        "## <b>5. <span style='color:#0B2F9F'>Join Clause</span></b>"
      ],
      "metadata": {
        "id": "A0cbHZ-vKpYb"
      }
    },
    {
      "cell_type": "code",
      "source": [
        "SELECT\n",
        "    a.state_name AS Negara_Bagian,\n",
        "    a.county_name AS Wilayah,\n",
        "    a.parameter_name AS Jenis_Polutan,\n",
        "    a.arithmetic_mean AS Rata_rata_Polutan,\n",
        "    b.neighbors AS Tetangga,\n",
        "    b.neighbors_state AS Negara_Tetangga\n",
        "FROM\n",
        "    `bigquery-public-data.epa_historical_air_quality.air_quality_annual_summary` AS a\n",
        "JOIN\n",
        "    `bigquery-public-data.geo_us_boundaries.adjacent_counties` AS b\n",
        "ON\n",
        "    a.county_name = b.county AND a.state_name = b.state\n",
        "LIMIT 50;"
      ],
      "metadata": {
        "id": "Cn85ACa8K0ds"
      },
      "execution_count": null,
      "outputs": []
    },
    {
      "cell_type": "markdown",
      "source": [
        "- SELECT Statement: Kode ini memilih kolom-kolom yang relevan dari dua tabel:\n",
        "\n",
        "    - state_name sebagai Negara_Bagian\n",
        "    - county_name sebagai Wilayah\n",
        "    - parameter_name sebagai Jenis_Polutan\n",
        "    - arithmetic_mean sebagai Rata_rata_Polutan\n",
        "    - neighbors sebagai Tetangga\n",
        "    - neighbors_state sebagai Negara_Tetangga\n",
        "- FROM Clause: Data diambil dari tabel air_quality_annual_summary yang berisi informasi kualitas udara dan adjacent_counties yang berisi informasi tentang kabupaten tetangga.\n",
        "\n",
        "- JOIN Clause: Tabel air_quality_annual_summary dan adjacent_counties digabungkan berdasarkan kecocokan antara nama kabupaten (county_name) dan nama negara bagian (state_name).\n",
        "\n",
        "- LIMIT Clause: Hanya 50 catatan pertama yang ditampilkan dari hasil query untuk memberikan gambaran awal tanpa membanjiri output dengan data."
      ],
      "metadata": {
        "id": "qiYzvyMAMnf3"
      }
    },
    {
      "cell_type": "markdown",
      "source": [
        "Insight: Jenis dan Rata-rata Polutan di Carson City, Nevada\n",
        "\n",
        "Data ini berisi informasi tentang rata-rata kadar polutan di Carson City, Nevada, dan wilayah sekitarnya. Setiap baris data menunjukkan polutan yang diukur di suatu wilayah (kabupaten) dan nilai rata-ratanya. Dalam data ini, terdapat jenis polutan yang umum ditemukan, seperti partikel halus (PM2.5) dan ozon (O₃), yang dapat mempengaruhi kualitas udara dan kesehatan masyarakat.\n",
        "\n",
        "Informasi ini membantu kita memahami jenis polusi yang dominan di Carson City serta seberapa besar rata-rata polusi tersebut. Misalnya, wilayah ini menunjukkan variasi kadar PM2.5 dan ozon yang dapat mempengaruhi kesehatan penduduk dan lingkungan.\n",
        "\n",
        "Penting untuk dicatat bahwa data ini hanya mencakup 50 catatan pertama dari dataset yang lebih besar. Ini adalah contoh kecil dari data yang tersedia dan mungkin belum mencakup keseluruhan gambaran kualitas udara di Carson City dan wilayah sekitarnya.\n",
        "\n",
        "Dengan memahami jenis polutan dan rata-rata polutan di Carson City, kita dapat mengidentifikasi area yang mungkin perlu perhatian lebih dalam pengelolaan kualitas udara. Data ini bisa menjadi langkah awal dalam merencanakan tindakan untuk mengurangi polusi di wilayah tertentu dan melindungi kesehatan masyarakat."
      ],
      "metadata": {
        "id": "BwySlAbdMnYH"
      }
    },
    {
      "cell_type": "markdown",
      "source": [
        "<a id=\"A.\"></a>\n",
        "## <b>6. <span style='color:#0B2F9F'>Gabungan Where Clause, Case when, Subquery/CTE, & Join Clause</span></b>"
      ],
      "metadata": {
        "id": "qX3epxcwRUfq"
      }
    },
    {
      "cell_type": "code",
      "source": [
        "SELECT\n",
        "    a.state_name AS Negara_Bagian,\n",
        "    a.county_name AS Wilayah,\n",
        "    a.parameter_name AS Jenis_Polutan,\n",
        "    a.arithmetic_mean AS Rata_rata_Polutan,\n",
        "    b.neighbors AS Tetangga,\n",
        "    b.neighbors_state AS Negara_Tetangga,\n",
        "    CASE\n",
        "        WHEN a.arithmetic_mean <= 35 THEN 'Baik'\n",
        "        WHEN a.arithmetic_mean > 35 AND a.arithmetic_mean <= 75 THEN 'Sedang'\n",
        "        ELSE 'Buruk'\n",
        "    END AS Kategori_Kualitas_Udara\n",
        "FROM\n",
        "    `bigquery-public-data.epa_historical_air_quality.air_quality_annual_summary` AS a\n",
        "JOIN\n",
        "    `bigquery-public-data.geo_us_boundaries.adjacent_counties` AS b\n",
        "ON\n",
        "    a.county_name = b.county AND a.state_name = b.state\n",
        "WHERE\n",
        "    a.state_name = 'Nevada'\n",
        "    AND a.year = 2020\n",
        "LIMIT 100\n",
        "\n"
      ],
      "metadata": {
        "id": "9ps8olBFRixg"
      },
      "execution_count": null,
      "outputs": []
    },
    {
      "cell_type": "markdown",
      "source": [
        "SELECT Clause:\n",
        "\n",
        "- Di bagian ini, kita memilih kolom-kolom yang ingin ditampilkan dari tabel air_quality_annual_summary dan adjacent_counties. Setiap kolom diberi alias (nama lain) agar lebih mudah dibaca:\n",
        "    - a.state_name AS Negara_Bagian: Mengambil nama negara bagian dari tabel a (air_quality_annual_summary) dan memberikan alias \"Negara_Bagian\".\n",
        "    - a.county_name AS Wilayah: Mengambil nama wilayah (county) dan memberikan alias \"Wilayah\".\n",
        "    - a.parameter_name AS Jenis_Polutan: Mengambil jenis polutan dari tabel a dan memberikan alias \"Jenis_Polutan\".\n",
        "    - a.arithmetic_mean AS Rata_rata_Polutan: Mengambil rata-rata polutan dari tabel a dan memberikan alias \"Rata_rata_Polutan\".\n",
        "    - b.neighbors AS Tetangga: Mengambil nama tetangga wilayah dari tabel b (adjacent_counties) dan memberikan alias \"Tetangga\".\n",
        "    - b.neighbors_state AS Negara_Tetangga: Mengambil negara bagian tetangga dari tabel b dan memberikan alias \"Negara_Tetangga\".\n",
        "\n",
        "CASE Statement:\n",
        "\n",
        "- Ini adalah bagian untuk mengkategorikan kualitas udara berdasarkan nilai rata-rata polutan:\n",
        "    - WHEN a.arithmetic_mean <= 35 THEN 'Baik': Jika rata-rata polutan kurang dari atau sama dengan 35, maka dikategorikan sebagai 'Baik'.\n",
        "    - WHEN a.arithmetic_mean > 35 AND a.arithmetic_mean <= 75 THEN 'Sedang': Jika rata-rata polutan lebih dari 35 dan kurang dari atau sama dengan 75, dikategorikan sebagai 'Sedang'.\n",
        "    - ELSE 'Buruk': Jika rata-rata polutan lebih dari 75, dikategorikan sebagai 'Buruk'.\n",
        "\n",
        "FROM Clause:\n",
        "\n",
        "- Query ini mengambil data dari dua tabel:\n",
        "    - Tabel pertama adalah bigquery-public-data.epa_historical_air_quality.air_quality_annual_summary (diberi alias a), yang berisi informasi tentang kualitas udara.\n",
        "    - Tabel kedua adalah bigquery-public-data.geo_us_boundaries.adjacent_counties (diberi alias b), yang berisi informasi mengenai wilayah dan tetangganya.\n",
        "\n",
        "JOIN Clause:\n",
        "\n",
        "- Bagian ini menggabungkan dua tabel berdasarkan hubungan antara nama negara bagian (a.state_name = b.state) dan nama wilayah (a.county_name = b.county). Ini menghubungkan informasi kualitas udara di suatu wilayah dengan wilayah tetangganya.\n",
        "\n",
        "LIMIT Clause:\n",
        "\n",
        "- LIMIT 100: Membatasi hasil query hanya pada 100 baris pertama."
      ],
      "metadata": {
        "id": "XY5ZEbAhSkgE"
      }
    },
    {
      "cell_type": "markdown",
      "source": [
        "Insight: Kualitas Udara di Carson City dan Wilayah Tetangga\n",
        "\n",
        "Data kualitas udara untuk Carson City, Nevada, memberikan wawasan tentang konsentrasi PM2.5 dan Ozone di wilayah tersebut serta hubungan dengan wilayah tetangganya. Berdasarkan data yang tersedia, berikut adalah analisis singkat:\n",
        "\n",
        "- PM2.5 - Kondisi Lokal:\n",
        "\n",
        "    - Carson City memiliki rata-rata konsentrasi PM2.5 yang berkisar antara 5.27 µg/m³ hingga 9.29 µg/m³. Semua nilai ini tergolong dalam kategori Baik untuk kualitas udara, berdasarkan ambang batas yang digunakan.\n",
        "    - Wilayah ini berbatasan dengan beberapa county di Nevada, termasuk Storey, Lyon, Washoe, Douglas, dan satu wilayah di California, yaitu Placer. Semua tetangga berada di negara bagian Nevada dan satu di California.\n",
        "    - Meskipun Carson City dan wilayah sekitarnya berada dalam kategori \"Baik\", perbedaan nilai rata-rata PM2.5 antara wilayah yang berbeda menunjukkan variasi kecil dalam kualitas udara lokal.\n",
        "- Ozone:\n",
        "\n",
        "    - Carson City juga memiliki rata-rata konsentrasi Ozone yang berkisar antara 0.0448 ppm hingga 0.0494 ppm, yang juga masuk dalam kategori Baik.\n",
        "    - Sama seperti dengan PM2.5, wilayah tetangga Carson City adalah Storey, Lyon, Washoe, Douglas di Nevada dan Placer di California, yang berbagi kondisi kualitas udara serupa.\n",
        "- Kesimpulan:\n",
        "\n",
        "Secara keseluruhan, kualitas udara di Carson City dan wilayah sekitarnya menunjukkan kondisi yang baik untuk kedua polutan utama, yaitu PM2.5 dan Ozone. Meskipun ada sedikit variasi dalam konsentrasi polutan antara lokasi, Carson City tetap dalam batas yang aman. Keberadaan beberapa tetangga yang memiliki konsentrasi polutan yang serupa memperlihatkan bahwa wilayah ini, secara keseluruhan, memiliki kualitas udara yang layak dan tidak menunjukkan tanda-tanda polusi berbahaya pada saat pengukuran."
      ],
      "metadata": {
        "id": "JzN7kK85SlJx"
      }
    }
  ]
}